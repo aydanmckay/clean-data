{
 "cells": [
  {
   "cell_type": "code",
   "execution_count": 145,
   "id": "6269ae49-80cb-4af0-a7ab-bd10f308dd8f",
   "metadata": {},
   "outputs": [],
   "source": [
    "#Vizier non single stars: I/357 \n",
    "#Vizier variables: I/358"
   ]
  },
  {
   "cell_type": "code",
   "execution_count": 146,
   "id": "addbd461-470a-4fc9-8e13-9651f02adf7b",
   "metadata": {},
   "outputs": [],
   "source": [
    "import pandas as pd\n",
    "import numpy as np\n",
    "import os"
   ]
  },
  {
   "cell_type": "code",
   "execution_count": 147,
   "id": "2278d096-788a-4aed-a050-0b7b05f17cd8",
   "metadata": {},
   "outputs": [],
   "source": [
    "os.chdir('/arc/projects/k-pop/catalogues/calsurvey/')"
   ]
  },
  {
   "cell_type": "code",
   "execution_count": 148,
   "id": "9ac7cce5-eb3a-462e-9fc5-301d510b477c",
   "metadata": {},
   "outputs": [],
   "source": [
    "input_survey = 'apogee_dr17_filtered.csv'\n",
    "output_binaries_survey = 'apogee_dr17_binaries.csv'\n",
    "output_variability_survey = 'apogee_dr17_variables.csv'\n",
    "outut_survey = 'apogee_dr17_filtered.parquet'\n",
    "\n",
    "match_radius = 1."
   ]
  },
  {
   "cell_type": "code",
   "execution_count": 149,
   "id": "0e738ddd-a810-4721-860e-72003a96acab",
   "metadata": {},
   "outputs": [],
   "source": [
    "cds_binaries = 'I/357/tbosb1'\n",
    "cds_variables = 'I/358/vclassre'"
   ]
  },
  {
   "cell_type": "code",
   "execution_count": 150,
   "id": "ab81f23d-1a83-4b66-a6ad-75f50e5803e4",
   "metadata": {},
   "outputs": [],
   "source": [
    "survey = pd.read_csv(input_survey)"
   ]
  },
  {
   "cell_type": "code",
   "execution_count": 151,
   "id": "34096302-7782-402c-838a-b9baaad8ef68",
   "metadata": {},
   "outputs": [
    {
     "data": {
      "text/html": [
       "<div>\n",
       "<style scoped>\n",
       "    .dataframe tbody tr th:only-of-type {\n",
       "        vertical-align: middle;\n",
       "    }\n",
       "\n",
       "    .dataframe tbody tr th {\n",
       "        vertical-align: top;\n",
       "    }\n",
       "\n",
       "    .dataframe thead th {\n",
       "        text-align: right;\n",
       "    }\n",
       "</style>\n",
       "<table border=\"1\" class=\"dataframe\">\n",
       "  <thead>\n",
       "    <tr style=\"text-align: right;\">\n",
       "      <th></th>\n",
       "      <th>dr3_source_id</th>\n",
       "      <th>origin</th>\n",
       "      <th>origin_id</th>\n",
       "      <th>ra</th>\n",
       "      <th>dec</th>\n",
       "      <th>rv</th>\n",
       "      <th>e_rv</th>\n",
       "      <th>teff</th>\n",
       "      <th>e_teff</th>\n",
       "      <th>logg</th>\n",
       "      <th>e_logg</th>\n",
       "      <th>feh</th>\n",
       "      <th>e_feh</th>\n",
       "      <th>alpha_fe</th>\n",
       "      <th>e_alpha_fe</th>\n",
       "    </tr>\n",
       "  </thead>\n",
       "  <tbody>\n",
       "    <tr>\n",
       "      <th>0</th>\n",
       "      <td>2413929812587459072</td>\n",
       "      <td>origin</td>\n",
       "      <td>b'2M00000019-1924498'</td>\n",
       "      <td>0.000832</td>\n",
       "      <td>-19.413851</td>\n",
       "      <td>19.073862</td>\n",
       "      <td>0.038599</td>\n",
       "      <td>5501.7730</td>\n",
       "      <td>25.553564</td>\n",
       "      <td>4.304115</td>\n",
       "      <td>0.024555</td>\n",
       "      <td>-0.27553</td>\n",
       "      <td>0.007253</td>\n",
       "      <td>0.090978</td>\n",
       "      <td>0.007373</td>\n",
       "    </tr>\n",
       "    <tr>\n",
       "      <th>1</th>\n",
       "      <td>422596679964513792</td>\n",
       "      <td>origin</td>\n",
       "      <td>b'2M00000032+5737103'</td>\n",
       "      <td>0.001335</td>\n",
       "      <td>57.619530</td>\n",
       "      <td>-20.545164</td>\n",
       "      <td>0.065306</td>\n",
       "      <td>6099.7810</td>\n",
       "      <td>45.847330</td>\n",
       "      <td>3.673970</td>\n",
       "      <td>0.030661</td>\n",
       "      <td>-0.25297</td>\n",
       "      <td>0.007646</td>\n",
       "      <td>0.029159</td>\n",
       "      <td>0.011755</td>\n",
       "    </tr>\n",
       "    <tr>\n",
       "      <th>2</th>\n",
       "      <td>422596679964513792</td>\n",
       "      <td>origin</td>\n",
       "      <td>b'2M00000032+5737103'</td>\n",
       "      <td>0.001335</td>\n",
       "      <td>57.619530</td>\n",
       "      <td>-20.434650</td>\n",
       "      <td>0.062999</td>\n",
       "      <td>6162.0303</td>\n",
       "      <td>41.753815</td>\n",
       "      <td>3.715561</td>\n",
       "      <td>0.025935</td>\n",
       "      <td>-0.21417</td>\n",
       "      <td>0.006151</td>\n",
       "      <td>0.048066</td>\n",
       "      <td>0.009856</td>\n",
       "    </tr>\n",
       "    <tr>\n",
       "      <th>3</th>\n",
       "      <td>421077597267551104</td>\n",
       "      <td>origin</td>\n",
       "      <td>b'2M00000068+5710233'</td>\n",
       "      <td>0.002850</td>\n",
       "      <td>57.173164</td>\n",
       "      <td>-12.673787</td>\n",
       "      <td>0.029277</td>\n",
       "      <td>5031.2637</td>\n",
       "      <td>10.145057</td>\n",
       "      <td>3.456132</td>\n",
       "      <td>0.023554</td>\n",
       "      <td>-0.16028</td>\n",
       "      <td>0.006890</td>\n",
       "      <td>0.055704</td>\n",
       "      <td>0.006063</td>\n",
       "    </tr>\n",
       "    <tr>\n",
       "      <th>4</th>\n",
       "      <td>2772097619417608704</td>\n",
       "      <td>origin</td>\n",
       "      <td>b'2M00000103+1525513'</td>\n",
       "      <td>0.004322</td>\n",
       "      <td>15.430942</td>\n",
       "      <td>-12.087924</td>\n",
       "      <td>0.059875</td>\n",
       "      <td>5945.7510</td>\n",
       "      <td>44.246800</td>\n",
       "      <td>4.123192</td>\n",
       "      <td>0.033373</td>\n",
       "      <td>-0.26189</td>\n",
       "      <td>0.008906</td>\n",
       "      <td>0.012409</td>\n",
       "      <td>0.012326</td>\n",
       "    </tr>\n",
       "  </tbody>\n",
       "</table>\n",
       "</div>"
      ],
      "text/plain": [
       "         dr3_source_id  origin              origin_id        ra        dec  \\\n",
       "0  2413929812587459072  origin  b'2M00000019-1924498'  0.000832 -19.413851   \n",
       "1   422596679964513792  origin  b'2M00000032+5737103'  0.001335  57.619530   \n",
       "2   422596679964513792  origin  b'2M00000032+5737103'  0.001335  57.619530   \n",
       "3   421077597267551104  origin  b'2M00000068+5710233'  0.002850  57.173164   \n",
       "4  2772097619417608704  origin  b'2M00000103+1525513'  0.004322  15.430942   \n",
       "\n",
       "          rv      e_rv       teff     e_teff      logg    e_logg      feh  \\\n",
       "0  19.073862  0.038599  5501.7730  25.553564  4.304115  0.024555 -0.27553   \n",
       "1 -20.545164  0.065306  6099.7810  45.847330  3.673970  0.030661 -0.25297   \n",
       "2 -20.434650  0.062999  6162.0303  41.753815  3.715561  0.025935 -0.21417   \n",
       "3 -12.673787  0.029277  5031.2637  10.145057  3.456132  0.023554 -0.16028   \n",
       "4 -12.087924  0.059875  5945.7510  44.246800  4.123192  0.033373 -0.26189   \n",
       "\n",
       "      e_feh  alpha_fe  e_alpha_fe  \n",
       "0  0.007253  0.090978    0.007373  \n",
       "1  0.007646  0.029159    0.011755  \n",
       "2  0.006151  0.048066    0.009856  \n",
       "3  0.006890  0.055704    0.006063  \n",
       "4  0.008906  0.012409    0.012326  "
      ]
     },
     "execution_count": 151,
     "metadata": {},
     "output_type": "execute_result"
    }
   ],
   "source": [
    "survey.head()"
   ]
  },
  {
   "cell_type": "code",
   "execution_count": 152,
   "id": "bd001c99-ab0c-4a23-a3ad-81027ed3fd9e",
   "metadata": {},
   "outputs": [],
   "source": [
    "#The files will always have (dr3_source_id, ra, and dec) independent of the survey"
   ]
  },
  {
   "cell_type": "code",
   "execution_count": 153,
   "id": "be3088cc-c60b-4a8f-b012-ab3032028256",
   "metadata": {},
   "outputs": [],
   "source": [
    "#Match with binaries"
   ]
  },
  {
   "cell_type": "code",
   "execution_count": 154,
   "id": "5bedb57d-4198-4374-866d-9280684bcb79",
   "metadata": {},
   "outputs": [],
   "source": [
    "stilts_command = \"stilts cdsskymatch \\\n",
    "                  cdstable=%s  find=best \\\n",
    "                  in=%s ifmt=csv \\\n",
    "                  ra=ra dec=dec radius=%d \\\n",
    "                  out=%s ofmt=csv\" %(cds_binaries, input_survey, match_radius, output_binaries_survey)"
   ]
  },
  {
   "cell_type": "code",
   "execution_count": 155,
   "id": "319be94e-1b64-483d-8e57-a5c958538c75",
   "metadata": {},
   "outputs": [
    {
     "name": "stdout",
     "output_type": "stream",
     "text": [
      "CPU times: user 1.94 ms, sys: 1.89 ms, total: 3.84 ms\n",
      "Wall time: 24.3 s\n"
     ]
    },
    {
     "data": {
      "text/plain": [
       "0"
      ]
     },
     "execution_count": 155,
     "metadata": {},
     "output_type": "execute_result"
    }
   ],
   "source": [
    "%%time\n",
    "os.system(stilts_command)"
   ]
  },
  {
   "cell_type": "code",
   "execution_count": 156,
   "id": "69b7a6a7-0b42-4599-a99a-2c7478008e7a",
   "metadata": {},
   "outputs": [],
   "source": [
    "#Match with variables"
   ]
  },
  {
   "cell_type": "code",
   "execution_count": 157,
   "id": "6d1bfbe7-0351-4777-863c-c2881e939f33",
   "metadata": {},
   "outputs": [],
   "source": [
    "stilts_command = 'stilts cdsskymatch \\\n",
    "                  cdstable=%s  find=best \\\n",
    "                  in=%s ifmt=csv \\\n",
    "                  ra=ra dec=dec radius=%d \\\n",
    "                  out=%s ofmt=csv' %(cds_variables, input_survey, match_radius, output_variability_survey)"
   ]
  },
  {
   "cell_type": "code",
   "execution_count": 158,
   "id": "051ff7d7-28f2-4424-a977-1f87bbe70f3f",
   "metadata": {},
   "outputs": [
    {
     "name": "stdout",
     "output_type": "stream",
     "text": [
      "CPU times: user 3.45 ms, sys: 3.06 ms, total: 6.51 ms\n",
      "Wall time: 1min 28s\n"
     ]
    },
    {
     "data": {
      "text/plain": [
       "0"
      ]
     },
     "execution_count": 158,
     "metadata": {},
     "output_type": "execute_result"
    }
   ],
   "source": [
    "%%time\n",
    "os.system(stilts_command)"
   ]
  },
  {
   "cell_type": "code",
   "execution_count": 160,
   "id": "b7c7bd8a-eaf7-4e5d-bc89-e18d57bd156d",
   "metadata": {},
   "outputs": [],
   "source": [
    "#Read binaries and variables to merge and then perform inverse selection on filtered table"
   ]
  },
  {
   "cell_type": "code",
   "execution_count": 161,
   "id": "784db411-66bf-4956-9cb2-7eaada6bce16",
   "metadata": {},
   "outputs": [],
   "source": [
    "binaries = pd.read_csv(output_binaries_survey)\n",
    "variables = pd.read_csv(output_variability_survey)"
   ]
  },
  {
   "cell_type": "code",
   "execution_count": 162,
   "id": "26c8dba1-13d6-4799-8a24-2e8f0620d829",
   "metadata": {},
   "outputs": [],
   "source": [
    "#Drop all the columns except dr3_source_id\n",
    "binaries = binaries.pop('dr3_source_id')\n",
    "variables = variables.pop('dr3_source_id')"
   ]
  },
  {
   "cell_type": "code",
   "execution_count": 163,
   "id": "9f997f4d-fcee-4ddd-a504-7907fd3a5702",
   "metadata": {},
   "outputs": [],
   "source": [
    "bin_var = pd.concat([binaries, variables], ignore_index=True)"
   ]
  },
  {
   "cell_type": "code",
   "execution_count": 164,
   "id": "c77c86f3-3559-4599-9215-41f9df99b719",
   "metadata": {},
   "outputs": [],
   "source": [
    "bin_var.drop_duplicates(keep='first', inplace=True)"
   ]
  },
  {
   "cell_type": "code",
   "execution_count": 165,
   "id": "630e4e0b-a285-4618-b875-f94945d2c1e8",
   "metadata": {},
   "outputs": [],
   "source": [
    "f_in1d = np.in1d(survey.dr3_source_id.values, bin_var.values, invert=True)"
   ]
  },
  {
   "cell_type": "code",
   "execution_count": 166,
   "id": "ef21128e-4664-448f-ad5f-63db0b1a9513",
   "metadata": {},
   "outputs": [],
   "source": [
    "survey_filtered = survey[f_in1d]"
   ]
  },
  {
   "cell_type": "code",
   "execution_count": 167,
   "id": "84e5a39b-2818-4326-8d77-4f021cdaa573",
   "metadata": {},
   "outputs": [],
   "source": [
    "survey_filtered.to_parquet(outut_survey, index=False)"
   ]
  },
  {
   "cell_type": "code",
   "execution_count": 168,
   "id": "99f4ca6f-baed-48ff-992d-a4fda9bc6f4d",
   "metadata": {},
   "outputs": [
    {
     "data": {
      "text/plain": [
       "0"
      ]
     },
     "execution_count": 168,
     "metadata": {},
     "output_type": "execute_result"
    }
   ],
   "source": [
    "#Remove all the intermediate step catalogues before finish\n",
    "os.system('rm %s' %output_binaries_survey)\n",
    "os.system('rm %s' %output_variability_survey)\n",
    "os.system('rm %s' %input_survey)"
   ]
  },
  {
   "cell_type": "code",
   "execution_count": null,
   "id": "f8e53dc6-4570-4934-a1bb-49f15f76f32e",
   "metadata": {},
   "outputs": [],
   "source": []
  }
 ],
 "metadata": {
  "kernelspec": {
   "display_name": "Python 3 (ipykernel)",
   "language": "python",
   "name": "python3"
  },
  "language_info": {
   "codemirror_mode": {
    "name": "ipython",
    "version": 3
   },
   "file_extension": ".py",
   "mimetype": "text/x-python",
   "name": "python",
   "nbconvert_exporter": "python",
   "pygments_lexer": "ipython3",
   "version": "3.9.13"
  }
 },
 "nbformat": 4,
 "nbformat_minor": 5
}
