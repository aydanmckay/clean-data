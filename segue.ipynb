{
 "cells": [
  {
   "cell_type": "markdown",
   "id": "a9d68669-dfa9-429d-954e-1e493cfa73e2",
   "metadata": {},
   "source": [
    "# Cleaning the SEGUE DR9 Dataset"
   ]
  },
  {
   "cell_type": "code",
   "execution_count": 2,
   "id": "b65b776e-bf6b-4524-a888-8952102edd91",
   "metadata": {},
   "outputs": [],
   "source": [
    "from astropy.table import Table\n",
    "import pandas as pd\n",
    "import numpy as np\n",
    "from time import time\n",
    "import matplotlib.pyplot as plt\n",
    "import os"
   ]
  },
  {
   "cell_type": "code",
   "execution_count": 3,
   "id": "78698d04-977c-4b2e-abf0-a432705029ad",
   "metadata": {},
   "outputs": [
    {
     "name": "stdout",
     "output_type": "stream",
     "text": [
      "Time Elapsed: 30.0 s\n"
     ]
    }
   ],
   "source": [
    "# importing tables\n",
    "start = time()\n",
    "os.chdir('/arc/projects/k-pop/catalogues/')\n",
    "sspp = Table.read('sdss-sspp-dr17.fits').to_pandas()\n",
    "end = time()\n",
    "print('Time Elapsed:',round(end-start,1),'s')"
   ]
  },
  {
   "cell_type": "code",
   "execution_count": 4,
   "id": "2ae56acc-56c1-4f38-aaa1-34527c4b0861",
   "metadata": {},
   "outputs": [
    {
     "data": {
      "text/plain": [
       "Index(['SPECOBJID', 'PLATEID', 'BESTOBJID', 'FLUXOBJID', 'TARGETOBJID',\n",
       "       'SPECPRIMARY', 'SPECLEGACY', 'SPECSEGUE', 'SPECSEGUE1', 'SPECSEGUE2',\n",
       "       ...\n",
       "       'LOGG_NGS1_IRFM_UNC', 'FEH_NGS1_IRFM', 'FEH_NGS1_IRFM_IND',\n",
       "       'FEH_NGS1_IRFM_UNC', 'LOGG_CAI1_IRFM', 'LOGG_CAI1_IRFM_IND',\n",
       "       'LOGG_CAI1_IRFM_UNC', 'FEH_CAIIK1_IRFM', 'FEH_CAIIK1_IRFM_IND',\n",
       "       'FEH_CAIIK1_IRFM_UNC'],\n",
       "      dtype='object', length=239)"
      ]
     },
     "execution_count": 4,
     "metadata": {},
     "output_type": "execute_result"
    }
   ],
   "source": [
    "sspp.columns"
   ]
  },
  {
   "cell_type": "code",
   "execution_count": 5,
   "id": "e38a8546-0bd9-4c4e-a9a9-075c33e497bc",
   "metadata": {},
   "outputs": [
    {
     "data": {
      "text/plain": [
       "1843200"
      ]
     },
     "execution_count": 5,
     "metadata": {},
     "output_type": "execute_result"
    }
   ],
   "source": [
    "len(sspp)"
   ]
  },
  {
   "cell_type": "markdown",
   "id": "2d651cea-8eab-4adf-8590-4bc2b5d59996",
   "metadata": {},
   "source": [
    "with sspParams.zbclass\n",
    "= STAR, SpecObjAll.primTarget = 2048, and\n",
    "PlateX.programName = seglow%. https://arxiv.org/pdf/1110.5933.pdf\n",
    "\n",
    "SpecObjAll.class = STAR, SpecObjAll.primTarget\n",
    "= 2048, PlateX.programName = seglow%, and\n",
    "PlateX.isPrimary = 1 https://arxiv.org/pdf/1110.5933.pdf\n",
    "\n",
    "We remove all stars with g > 20 and i < 14.2 (using\n",
    "magnitudes uncorrected for extinction) to ensure\n",
    "that the targets are bright enough for high-quality\n",
    "spectroscopy in the expected exposure time.\n",
    "\n",
    "The 7 square degree area of each plate is large\n",
    "enough that the extinction can be highly variable\n",
    "across the plate, and there are always many more\n",
    "targets than fibers available. We remove the regions of highest extinction from consideration to\n",
    "maximize the number of useful spectra. For each\n",
    "half of the plate, we calculate the 75th percentile\n",
    "of the E(B − V ) distribution using the total line\n",
    "of sight extinction from SFD98. This procedure is\n",
    "done for each half independently to ensure that the\n",
    "targets are approximately evenly distributed over\n",
    "the plates, since the reach of the fibers is only about\n",
    "half of the plate diameter.\n",
    "\n",
    "We remove all objects with E(B − V ) larger than\n",
    "the higher of the two 75th percentile values. Taking the higher value ensures that there are enough\n",
    "usable targets on each half of the plate to fill all\n",
    "the fibers given their limited reach across the plate.\n",
    "This should not bias the sample, as we do not expect that the objects behind more extinction are\n",
    "intrinsically any different from those that are unobscured. This is especially true for distant objects\n",
    "that are located far behind the dust. The magnitudes used throughout the rest of this procedure are\n",
    "corrected using the SFD98 extinction values. The\n",
    "SFD98 extinction was applied so that stars in the\n",
    "same approximate luminosity range were targeted\n",
    "in each line of sight despite the large variation in\n",
    "extinction among the different lines of sight.\n",
    "\n",
    "We examine the (g − r)SFD distribution in bins of\n",
    "gSFD, each one magnitude wide. For each distribution, we find the peak, which is the (g − r)SFD\n",
    "color of the MSTO in each g-magnitude bin. In\n",
    "addition, we determine the half maximum on the\n",
    "blue side; this is (g − r)half−max.\n",
    "\n",
    "The red cut for each bin is defined as (g − r)cut ≡\n",
    "(g − r)half−max + 0.25. We fit a line to (g − r)cut as\n",
    "a function of gbin, where gbin is the mean gSFD of\n",
    "all the stars in each bin.\n",
    "\n",
    "All stars on the blue side of the line are defined as\n",
    "candidate spectroscopic targets with equal probability of being selected. Targets are randomly chosen from the resulting candidate list.\n",
    "\n",
    "\n",
    "\n",
    "CC_MGH > 0 and CC_CAHK > 0. https://iopscience.iop.org/article/10.3847/1538-4365/ac5323/pdf"
   ]
  }
 ],
 "metadata": {
  "kernelspec": {
   "display_name": "Python 3 (ipykernel)",
   "language": "python",
   "name": "python3"
  },
  "language_info": {
   "codemirror_mode": {
    "name": "ipython",
    "version": 3
   },
   "file_extension": ".py",
   "mimetype": "text/x-python",
   "name": "python",
   "nbconvert_exporter": "python",
   "pygments_lexer": "ipython3",
   "version": "3.9.13"
  }
 },
 "nbformat": 4,
 "nbformat_minor": 5
}
